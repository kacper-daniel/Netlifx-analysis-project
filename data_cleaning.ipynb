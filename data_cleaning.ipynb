{
 "metadata": {
  "language_info": {
   "codemirror_mode": {
    "name": "ipython",
    "version": 3
   },
   "file_extension": ".py",
   "mimetype": "text/x-python",
   "name": "python",
   "nbconvert_exporter": "python",
   "pygments_lexer": "ipython3",
   "version": "3.9.4"
  },
  "orig_nbformat": 4,
  "kernelspec": {
   "name": "python3",
   "display_name": "Python 3.9.4 64-bit"
  },
  "interpreter": {
   "hash": "6b66eb796072cd0807604df52885088602d6bf7713277a0806916eb821e17603"
  }
 },
 "nbformat": 4,
 "nbformat_minor": 2,
 "cells": [
  {
   "cell_type": "code",
   "execution_count": 1,
   "metadata": {},
   "outputs": [],
   "source": [
    "import pandas as pd \n",
    "import numpy as np"
   ]
  },
  {
   "cell_type": "code",
   "execution_count": 2,
   "metadata": {},
   "outputs": [
    {
     "output_type": "execute_result",
     "data": {
      "text/plain": [
       "  show_id     type  title           director  \\\n",
       "0      s1  TV Show     3%                NaN   \n",
       "1      s2    Movie   7:19  Jorge Michel Grau   \n",
       "2      s3    Movie  23:59       Gilbert Chan   \n",
       "3      s4    Movie      9        Shane Acker   \n",
       "4      s5    Movie     21     Robert Luketic   \n",
       "\n",
       "                                                cast        country  \\\n",
       "0  João Miguel, Bianca Comparato, Michel Gomes, R...         Brazil   \n",
       "1  Demián Bichir, Héctor Bonilla, Oscar Serrano, ...         Mexico   \n",
       "2  Tedd Chan, Stella Chung, Henley Hii, Lawrence ...      Singapore   \n",
       "3  Elijah Wood, John C. Reilly, Jennifer Connelly...  United States   \n",
       "4  Jim Sturgess, Kevin Spacey, Kate Bosworth, Aar...  United States   \n",
       "\n",
       "          date_added  release_year rating   duration  \\\n",
       "0    August 14, 2020          2020  TV-MA  4 Seasons   \n",
       "1  December 23, 2016          2016  TV-MA     93 min   \n",
       "2  December 20, 2018          2011      R     78 min   \n",
       "3  November 16, 2017          2009  PG-13     80 min   \n",
       "4    January 1, 2020          2008  PG-13    123 min   \n",
       "\n",
       "                                           listed_in  \\\n",
       "0  International TV Shows, TV Dramas, TV Sci-Fi &...   \n",
       "1                       Dramas, International Movies   \n",
       "2                Horror Movies, International Movies   \n",
       "3  Action & Adventure, Independent Movies, Sci-Fi...   \n",
       "4                                             Dramas   \n",
       "\n",
       "                                         description  \n",
       "0  In a future where the elite inhabit an island ...  \n",
       "1  After a devastating earthquake hits Mexico Cit...  \n",
       "2  When an army recruit is found dead, his fellow...  \n",
       "3  In a postapocalyptic world, rag-doll robots hi...  \n",
       "4  A brilliant group of students become card-coun...  "
      ],
      "text/html": "<div>\n<style scoped>\n    .dataframe tbody tr th:only-of-type {\n        vertical-align: middle;\n    }\n\n    .dataframe tbody tr th {\n        vertical-align: top;\n    }\n\n    .dataframe thead th {\n        text-align: right;\n    }\n</style>\n<table border=\"1\" class=\"dataframe\">\n  <thead>\n    <tr style=\"text-align: right;\">\n      <th></th>\n      <th>show_id</th>\n      <th>type</th>\n      <th>title</th>\n      <th>director</th>\n      <th>cast</th>\n      <th>country</th>\n      <th>date_added</th>\n      <th>release_year</th>\n      <th>rating</th>\n      <th>duration</th>\n      <th>listed_in</th>\n      <th>description</th>\n    </tr>\n  </thead>\n  <tbody>\n    <tr>\n      <th>0</th>\n      <td>s1</td>\n      <td>TV Show</td>\n      <td>3%</td>\n      <td>NaN</td>\n      <td>João Miguel, Bianca Comparato, Michel Gomes, R...</td>\n      <td>Brazil</td>\n      <td>August 14, 2020</td>\n      <td>2020</td>\n      <td>TV-MA</td>\n      <td>4 Seasons</td>\n      <td>International TV Shows, TV Dramas, TV Sci-Fi &amp;...</td>\n      <td>In a future where the elite inhabit an island ...</td>\n    </tr>\n    <tr>\n      <th>1</th>\n      <td>s2</td>\n      <td>Movie</td>\n      <td>7:19</td>\n      <td>Jorge Michel Grau</td>\n      <td>Demián Bichir, Héctor Bonilla, Oscar Serrano, ...</td>\n      <td>Mexico</td>\n      <td>December 23, 2016</td>\n      <td>2016</td>\n      <td>TV-MA</td>\n      <td>93 min</td>\n      <td>Dramas, International Movies</td>\n      <td>After a devastating earthquake hits Mexico Cit...</td>\n    </tr>\n    <tr>\n      <th>2</th>\n      <td>s3</td>\n      <td>Movie</td>\n      <td>23:59</td>\n      <td>Gilbert Chan</td>\n      <td>Tedd Chan, Stella Chung, Henley Hii, Lawrence ...</td>\n      <td>Singapore</td>\n      <td>December 20, 2018</td>\n      <td>2011</td>\n      <td>R</td>\n      <td>78 min</td>\n      <td>Horror Movies, International Movies</td>\n      <td>When an army recruit is found dead, his fellow...</td>\n    </tr>\n    <tr>\n      <th>3</th>\n      <td>s4</td>\n      <td>Movie</td>\n      <td>9</td>\n      <td>Shane Acker</td>\n      <td>Elijah Wood, John C. Reilly, Jennifer Connelly...</td>\n      <td>United States</td>\n      <td>November 16, 2017</td>\n      <td>2009</td>\n      <td>PG-13</td>\n      <td>80 min</td>\n      <td>Action &amp; Adventure, Independent Movies, Sci-Fi...</td>\n      <td>In a postapocalyptic world, rag-doll robots hi...</td>\n    </tr>\n    <tr>\n      <th>4</th>\n      <td>s5</td>\n      <td>Movie</td>\n      <td>21</td>\n      <td>Robert Luketic</td>\n      <td>Jim Sturgess, Kevin Spacey, Kate Bosworth, Aar...</td>\n      <td>United States</td>\n      <td>January 1, 2020</td>\n      <td>2008</td>\n      <td>PG-13</td>\n      <td>123 min</td>\n      <td>Dramas</td>\n      <td>A brilliant group of students become card-coun...</td>\n    </tr>\n  </tbody>\n</table>\n</div>"
     },
     "metadata": {},
     "execution_count": 2
    }
   ],
   "source": [
    "df = pd.read_csv('netflix_titles.csv')\n",
    "pd.set_option('display.max_columns', 100)\n",
    "df.head()"
   ]
  },
  {
   "cell_type": "code",
   "execution_count": 13,
   "metadata": {},
   "outputs": [
    {
     "output_type": "execute_result",
     "data": {
      "text/plain": [
       "Index(['show_id', 'type', 'title', 'director', 'cast', 'country', 'date_added',\n",
       "       'release_year', 'rating', 'duration', 'listed_in', 'description'],\n",
       "      dtype='object')"
      ]
     },
     "metadata": {},
     "execution_count": 13
    }
   ],
   "source": [
    "df.columns"
   ]
  },
  {
   "cell_type": "code",
   "execution_count": 14,
   "metadata": {},
   "outputs": [
    {
     "output_type": "stream",
     "name": "stdout",
     "text": [
      "director\ncast\ncountry\ndate_added\nrating\n"
     ]
    }
   ],
   "source": [
    "# Check all columns for nan values\n",
    "\n",
    "def nan_checker(dataframe):\n",
    "    for col in dataframe.columns:\n",
    "        check = dataframe[col].isnull().values.any()\n",
    "        if check:\n",
    "            print(col)\n",
    "\n",
    "nan_checker(df)"
   ]
  },
  {
   "cell_type": "code",
   "execution_count": 15,
   "metadata": {},
   "outputs": [],
   "source": [
    "# Fill all nan values with Unknown\n",
    "\n",
    "df['director'] = df['director'].fillna('Unknown')\n",
    "df['cast'] = df['cast'].fillna('Unknown')\n",
    "df['country'] = df['country'].fillna('Unknown')\n",
    "df['date_added'] = df['date_added'].fillna('Unknown')\n",
    "df['rating'] = df['rating'].fillna('Unknown')"
   ]
  },
  {
   "cell_type": "code",
   "execution_count": 17,
   "metadata": {},
   "outputs": [],
   "source": [
    "# Parse dates in column 'date_added'\n",
    "\n",
    "df['date_added'] = df['date_added'].apply(lambda x: 'Unknown' if x == 'Unknown' else pd.to_datetime(x))"
   ]
  },
  {
   "cell_type": "code",
   "execution_count": 18,
   "metadata": {},
   "outputs": [
    {
     "output_type": "execute_result",
     "data": {
      "text/plain": [
       "  show_id     type  title           director  \\\n",
       "0      s1  TV Show     3%            Unknown   \n",
       "1      s2    Movie   7:19  Jorge Michel Grau   \n",
       "2      s3    Movie  23:59       Gilbert Chan   \n",
       "3      s4    Movie      9        Shane Acker   \n",
       "4      s5    Movie     21     Robert Luketic   \n",
       "\n",
       "                                                cast        country  \\\n",
       "0  João Miguel, Bianca Comparato, Michel Gomes, R...         Brazil   \n",
       "1  Demián Bichir, Héctor Bonilla, Oscar Serrano, ...         Mexico   \n",
       "2  Tedd Chan, Stella Chung, Henley Hii, Lawrence ...      Singapore   \n",
       "3  Elijah Wood, John C. Reilly, Jennifer Connelly...  United States   \n",
       "4  Jim Sturgess, Kevin Spacey, Kate Bosworth, Aar...  United States   \n",
       "\n",
       "            date_added  release_year rating   duration  \\\n",
       "0  2020-08-14 00:00:00          2020  TV-MA  4 Seasons   \n",
       "1  2016-12-23 00:00:00          2016  TV-MA     93 min   \n",
       "2  2018-12-20 00:00:00          2011      R     78 min   \n",
       "3  2017-11-16 00:00:00          2009  PG-13     80 min   \n",
       "4  2020-01-01 00:00:00          2008  PG-13    123 min   \n",
       "\n",
       "                                           listed_in  \\\n",
       "0  International TV Shows, TV Dramas, TV Sci-Fi &...   \n",
       "1                       Dramas, International Movies   \n",
       "2                Horror Movies, International Movies   \n",
       "3  Action & Adventure, Independent Movies, Sci-Fi...   \n",
       "4                                             Dramas   \n",
       "\n",
       "                                         description  \n",
       "0  In a future where the elite inhabit an island ...  \n",
       "1  After a devastating earthquake hits Mexico Cit...  \n",
       "2  When an army recruit is found dead, his fellow...  \n",
       "3  In a postapocalyptic world, rag-doll robots hi...  \n",
       "4  A brilliant group of students become card-coun...  "
      ],
      "text/html": "<div>\n<style scoped>\n    .dataframe tbody tr th:only-of-type {\n        vertical-align: middle;\n    }\n\n    .dataframe tbody tr th {\n        vertical-align: top;\n    }\n\n    .dataframe thead th {\n        text-align: right;\n    }\n</style>\n<table border=\"1\" class=\"dataframe\">\n  <thead>\n    <tr style=\"text-align: right;\">\n      <th></th>\n      <th>show_id</th>\n      <th>type</th>\n      <th>title</th>\n      <th>director</th>\n      <th>cast</th>\n      <th>country</th>\n      <th>date_added</th>\n      <th>release_year</th>\n      <th>rating</th>\n      <th>duration</th>\n      <th>listed_in</th>\n      <th>description</th>\n    </tr>\n  </thead>\n  <tbody>\n    <tr>\n      <th>0</th>\n      <td>s1</td>\n      <td>TV Show</td>\n      <td>3%</td>\n      <td>Unknown</td>\n      <td>João Miguel, Bianca Comparato, Michel Gomes, R...</td>\n      <td>Brazil</td>\n      <td>2020-08-14 00:00:00</td>\n      <td>2020</td>\n      <td>TV-MA</td>\n      <td>4 Seasons</td>\n      <td>International TV Shows, TV Dramas, TV Sci-Fi &amp;...</td>\n      <td>In a future where the elite inhabit an island ...</td>\n    </tr>\n    <tr>\n      <th>1</th>\n      <td>s2</td>\n      <td>Movie</td>\n      <td>7:19</td>\n      <td>Jorge Michel Grau</td>\n      <td>Demián Bichir, Héctor Bonilla, Oscar Serrano, ...</td>\n      <td>Mexico</td>\n      <td>2016-12-23 00:00:00</td>\n      <td>2016</td>\n      <td>TV-MA</td>\n      <td>93 min</td>\n      <td>Dramas, International Movies</td>\n      <td>After a devastating earthquake hits Mexico Cit...</td>\n    </tr>\n    <tr>\n      <th>2</th>\n      <td>s3</td>\n      <td>Movie</td>\n      <td>23:59</td>\n      <td>Gilbert Chan</td>\n      <td>Tedd Chan, Stella Chung, Henley Hii, Lawrence ...</td>\n      <td>Singapore</td>\n      <td>2018-12-20 00:00:00</td>\n      <td>2011</td>\n      <td>R</td>\n      <td>78 min</td>\n      <td>Horror Movies, International Movies</td>\n      <td>When an army recruit is found dead, his fellow...</td>\n    </tr>\n    <tr>\n      <th>3</th>\n      <td>s4</td>\n      <td>Movie</td>\n      <td>9</td>\n      <td>Shane Acker</td>\n      <td>Elijah Wood, John C. Reilly, Jennifer Connelly...</td>\n      <td>United States</td>\n      <td>2017-11-16 00:00:00</td>\n      <td>2009</td>\n      <td>PG-13</td>\n      <td>80 min</td>\n      <td>Action &amp; Adventure, Independent Movies, Sci-Fi...</td>\n      <td>In a postapocalyptic world, rag-doll robots hi...</td>\n    </tr>\n    <tr>\n      <th>4</th>\n      <td>s5</td>\n      <td>Movie</td>\n      <td>21</td>\n      <td>Robert Luketic</td>\n      <td>Jim Sturgess, Kevin Spacey, Kate Bosworth, Aar...</td>\n      <td>United States</td>\n      <td>2020-01-01 00:00:00</td>\n      <td>2008</td>\n      <td>PG-13</td>\n      <td>123 min</td>\n      <td>Dramas</td>\n      <td>A brilliant group of students become card-coun...</td>\n    </tr>\n  </tbody>\n</table>\n</div>"
     },
     "metadata": {},
     "execution_count": 18
    }
   ],
   "source": [
    "df.head()"
   ]
  },
  {
   "cell_type": "code",
   "execution_count": 19,
   "metadata": {},
   "outputs": [
    {
     "output_type": "execute_result",
     "data": {
      "text/plain": [
       "array(['TV-MA', 'R', 'PG-13', 'TV-14', 'TV-PG', 'NR', 'TV-G', 'TV-Y',\n",
       "       'Unknown', 'TV-Y7', 'PG', 'G', 'NC-17', 'TV-Y7-FV', 'UR'],\n",
       "      dtype=object)"
      ]
     },
     "metadata": {},
     "execution_count": 19
    }
   ],
   "source": [
    "df.rating.unique()"
   ]
  },
  {
   "cell_type": "code",
   "execution_count": 20,
   "metadata": {},
   "outputs": [],
   "source": [
    "df = df.rename(columns={'rating': 'age_rating'})"
   ]
  },
  {
   "cell_type": "code",
   "execution_count": null,
   "metadata": {},
   "outputs": [],
   "source": []
  }
 ]
}